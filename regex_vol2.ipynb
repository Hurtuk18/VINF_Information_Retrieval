{
 "cells": [
  {
   "cell_type": "code",
   "execution_count": 2,
   "metadata": {
    "collapsed": true
   },
   "outputs": [],
   "source": [
    "import json\n",
    "import re\n",
    "import bz2\n",
    "\n",
    "import regex_dir.regex_expressions as re_exp\n",
    "\n",
    "WIKI_FILE_PATH_1 = \"src/enwiki-latest-pages-articles-multistream1.xml-p1p41242.bz2\"\n",
    "WIKI_FILE_PATH_2 = \"src/enwiki-latest-pages-articles-multistream10.xml-p4045403p5399366.bz2\"\n",
    "START_TIME = \"\"\n",
    "LIST_OF_BOOKS = []"
   ]
  },
  {
   "cell_type": "code",
   "execution_count": 3,
   "outputs": [],
   "source": [
    "class WikiParserRegex:\n",
    "\n",
    "    def __init__(self):\n",
    "        print(\"Parsing started\")\n",
    "\n",
    "    def create_record(self):\n",
    "        LIST_OF_BOOKS.append({\n",
    "            'name': [],\n",
    "            'author': [],\n",
    "            'country': [],\n",
    "            'language': [],\n",
    "            'series': [],\n",
    "            'genre': [],\n",
    "            'pub_date': [],\n",
    "            'pages': []\n",
    "        })\n",
    "\n",
    "    def append_item_detail(self, line):\n",
    "        if 'name' in line:\n",
    "            item = re_exp.regex_name(str(line))\n",
    "            if item:\n",
    "                LIST_OF_BOOKS[-1]['name'].append(item)\n",
    "        elif 'author' in line:\n",
    "            item = re_exp.regex_other(str(line))\n",
    "            if item:\n",
    "                LIST_OF_BOOKS[-1]['author'].append(item)\n",
    "        elif 'country' in line:\n",
    "            item = re_exp.regex_plain(str(line))\n",
    "            if item:\n",
    "                LIST_OF_BOOKS[-1]['country'].append(item)\n",
    "        elif 'language' in line:\n",
    "            item = re_exp.regex_plain(str(line))\n",
    "            if item:\n",
    "                LIST_OF_BOOKS[-1]['language'].append(item)\n",
    "        elif 'series' in line:\n",
    "            item = re_exp.regex_other(str(line))\n",
    "            if item:\n",
    "                LIST_OF_BOOKS[-1]['series'].append(item)\n",
    "        elif 'genre' in line:\n",
    "            item = re_exp.regex_other(str(line))\n",
    "            if item:\n",
    "                LIST_OF_BOOKS[-1]['genre'].append(item)\n",
    "        elif 'pages' in line:\n",
    "            item = re_exp.regex_pages(str(line))\n",
    "            if item:\n",
    "                LIST_OF_BOOKS[-1]['pages'].append(item)\n",
    "        elif 'pub_date' in line or 'published' in line or 'release_date' in line or 'publish' in line:\n",
    "            item = re_exp.regex_pub(str(line))\n",
    "            if item:\n",
    "                if not len(LIST_OF_BOOKS[-1]['pub_date']) == 4:\n",
    "                    LIST_OF_BOOKS[-1]['pub_date'].append(item)\n",
    "\n",
    "    def open_bz_file(self, path_to_file):\n",
    "        counter = 0\n",
    "        with bz2.BZ2File(path_to_file, \"r\") as xml_file:\n",
    "            book_found = False\n",
    "            created_record = False\n",
    "            for idx, line in enumerate(xml_file):\n",
    "                if line and \"Infobox book\" in str(line):\n",
    "                    book_found = True\n",
    "                    self.create_record()\n",
    "                    created_record = True\n",
    "                elif \"}}\" in str(line) and book_found:\n",
    "                    book_found = False\n",
    "                    # uncomment this if you want only 2 items from wiki as an example\n",
    "                    #if counter == 5:\n",
    "                    #    break\n",
    "                    #counter = counter + 1\n",
    "                elif book_found and created_record and line:\n",
    "                    self.append_item_detail(str(line))"
   ],
   "metadata": {
    "collapsed": false
   }
  },
  {
   "cell_type": "code",
   "execution_count": 4,
   "outputs": [
    {
     "name": "stdout",
     "output_type": "stream",
     "text": [
      "Parsing started\n"
     ]
    }
   ],
   "source": [
    "test = WikiParserRegex()\n",
    "test.open_bz_file(WIKI_FILE_PATH_1)\n",
    "#print(json.dumps(LIST_OF_BOOKS, indent=3))"
   ],
   "metadata": {
    "collapsed": false
   }
  },
  {
   "cell_type": "code",
   "execution_count": 7,
   "outputs": [
    {
     "name": "stdout",
     "output_type": "stream",
     "text": [
      "fail\n",
      "fail\n",
      "fail\n",
      "got ya\n",
      "fail\n",
      "fail\n",
      "fail\n",
      "fail\n",
      "got ya\n",
      "fail\n"
     ]
    }
   ],
   "source": [
    "for book in LIST_OF_BOOKS:\n",
    "    if 'genre' in book:\n",
    "        for item in book['genre']:\n",
    "            for name in item:\n",
    "                if \"Science\".lower() in name.lower():\n",
    "                    print(\"got ya\")\n",
    "                else:\n",
    "                    print(\"fail\")"
   ],
   "metadata": {
    "collapsed": false
   }
  },
  {
   "cell_type": "code",
   "execution_count": null,
   "outputs": [],
   "source": [],
   "metadata": {
    "collapsed": false
   }
  }
 ],
 "metadata": {
  "kernelspec": {
   "display_name": "Python 3",
   "language": "python",
   "name": "python3"
  },
  "language_info": {
   "codemirror_mode": {
    "name": "ipython",
    "version": 2
   },
   "file_extension": ".py",
   "mimetype": "text/x-python",
   "name": "python",
   "nbconvert_exporter": "python",
   "pygments_lexer": "ipython2",
   "version": "2.7.6"
  }
 },
 "nbformat": 4,
 "nbformat_minor": 0
}
