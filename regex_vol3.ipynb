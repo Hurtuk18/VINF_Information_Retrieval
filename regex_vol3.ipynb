{
 "cells": [
  {
   "cell_type": "code",
   "execution_count": 18,
   "metadata": {
    "collapsed": true
   },
   "outputs": [],
   "source": [
    "import json\n",
    "import re\n",
    "import bz2\n",
    "import time\n",
    "\n",
    "import regex_dir.regex_expressions as re_exp\n",
    "\n",
    "WIKI_FILE_PATH_1 = \"src/enwiki-latest-pages-articles-multistream1.xml-p1p41242.bz2\"\n",
    "WIKI_FILE_PATH_2 = \"src/enwiki-latest-pages-articles-multistream10.xml-p4045403p5399366.bz2\"\n",
    "WIKI_FILE_PATH_3 = \"src/enwiki-20220920-pages-meta-current.xml.bz2\"\n",
    "START_TIME = \"\"\n",
    "LIST_OF_BOOKS_v1 = []\n",
    "LIST_OF_BOOKS_v1_FOUND = []"
   ]
  },
  {
   "cell_type": "code",
   "execution_count": 3,
   "metadata": {
    "collapsed": false
   },
   "outputs": [],
   "source": [
    "class WikiParserRegex_v1:\n",
    "\n",
    "    def __init__(self):\n",
    "        print(\"Parsing started!\")\n",
    "\n",
    "    def create_record(self):\n",
    "        LIST_OF_BOOKS_v1.append({\n",
    "            'name': [],\n",
    "            'author': [],\n",
    "            'country': [],\n",
    "            'language': [],\n",
    "            'series': [],\n",
    "            'genre': [],\n",
    "            'pub_date': [],\n",
    "            'pages': []\n",
    "        })\n",
    "\n",
    "    def append_item_detail(self, line):\n",
    "        if '| name' in line:\n",
    "            item = re_exp.regex_name(line)\n",
    "            if item:\n",
    "                LIST_OF_BOOKS_v1[-1]['name'].append(item)\n",
    "        elif '| author' in line:\n",
    "            item = re_exp.regex_other(str(line))\n",
    "            if item:\n",
    "                LIST_OF_BOOKS_v1[-1]['author'].append(item)\n",
    "        elif '| country' in line:\n",
    "            item = re_exp.regex_plain(str(line))\n",
    "            if item:\n",
    "                LIST_OF_BOOKS_v1[-1]['country'].append(item)\n",
    "        elif '| language' in line:\n",
    "            item = re_exp.regex_plain(str(line))\n",
    "            if item:\n",
    "                LIST_OF_BOOKS_v1[-1]['language'].append(item)\n",
    "        elif '| series' in line:\n",
    "            item = re_exp.regex_other(str(line))\n",
    "            if item:\n",
    "                LIST_OF_BOOKS_v1[-1]['series'].append(item)\n",
    "        elif '| genre' in line:\n",
    "            item = re_exp.regex_other(str(line))\n",
    "            if item:\n",
    "                LIST_OF_BOOKS_v1[-1]['genre'].append(item)\n",
    "        elif '| pages' in line:\n",
    "            item = re_exp.regex_pages(str(line))\n",
    "            if item:\n",
    "                LIST_OF_BOOKS_v1[-1]['pages'].append(item)\n",
    "        elif '| pub_date' in line or '| published' in line or '| release_date' in line or '| publish' in line:\n",
    "            item = re_exp.regex_pub(str(line))\n",
    "            if item:\n",
    "                if not len(LIST_OF_BOOKS_v1[-1]['pub_date']) == 4:\n",
    "                    LIST_OF_BOOKS_v1[-1]['pub_date'].append(item)\n",
    "\n",
    "    def open_bz_file(self, path_to_file):\n",
    "        counter = 0\n",
    "        with bz2.BZ2File(path_to_file, \"r\") as xml_file:\n",
    "            book_found = False\n",
    "            created_record = False\n",
    "            for idx, line in enumerate(xml_file):\n",
    "                if line and \"Infobox book\" in str(line):\n",
    "                    book_found = True\n",
    "                    self.create_record()\n",
    "                    created_record = True\n",
    "                elif \"}}\" in str(line) and book_found:\n",
    "                    book_found = False\n",
    "                    # uncomment this if you want only 2 items from wiki as an example\n",
    "                    #if counter == 5:\n",
    "                    #    break\n",
    "                    #counter = counter + 1\n",
    "                elif book_found and created_record and line:\n",
    "                    self.append_item_detail(str(line))"
   ]
  },
  {
   "cell_type": "code",
   "execution_count": 19,
   "metadata": {
    "collapsed": false
   },
   "outputs": [
    {
     "name": "stdout",
     "output_type": "stream",
     "text": [
      "Parsing started!\n",
      "7406.176096916199\n"
     ]
    }
   ],
   "source": [
    "LIST_OF_BOOKS_v1 = []\n",
    "start = time.time()\n",
    "test = WikiParserRegex_v1()\n",
    "test.open_bz_file(WIKI_FILE_PATH_3)\n",
    "end = time.time()\n",
    "print(end - start)"
   ]
  },
  {
   "cell_type": "code",
   "execution_count": 20,
   "metadata": {
    "collapsed": false
   },
   "outputs": [
    {
     "name": "stdout",
     "output_type": "stream",
     "text": [
      "45842\n"
     ]
    }
   ],
   "source": [
    "#LIST_OF_BOOKS_v1 = []\n",
    "print(len(LIST_OF_BOOKS_v1))"
   ]
  },
  {
   "cell_type": "code",
   "execution_count": 56,
   "metadata": {
    "collapsed": false
   },
   "outputs": [],
   "source": [
    "for book in LIST_OF_BOOKS_v1:\n",
    "    print(book)"
   ]
  },
  {
   "cell_type": "code",
   "execution_count": 21,
   "metadata": {
    "collapsed": false
   },
   "outputs": [],
   "source": [
    "\"\"\"\n",
    "    If the category contains our input then return True\n",
    "\n",
    "    @:param category_name is name of category (String)\n",
    "    @:param category_input is the input we are looking for (String)\n",
    "    @:param book is the book in which we are finding input (book from LIST_OF_BOOKS_v1)\n",
    "\"\"\"\n",
    "def find_my_category(category_name: str, category_input: str, book: any) -> bool:\n",
    "    if category_input != '-' and category_name in book:\n",
    "        for item in book[category_name]:\n",
    "            for part in item:\n",
    "                for part_find in category_input.split(', '):\n",
    "                    if (category_name != \"pub_date\" or category_name != \"pages\") and part_find.lower() in part.lower():\n",
    "                        return True\n",
    "                    elif (category_name == \"pub_date\" or category_name == \"pages\") and part_find in part:\n",
    "                        if int(part_find) > int(part):\n",
    "                            return True\n",
    "                        else:\n",
    "                            return False\n",
    "    elif category_input == '-':\n",
    "        return True\n",
    "    else:\n",
    "        return False"
   ]
  },
  {
   "cell_type": "code",
   "execution_count": 22,
   "metadata": {
    "collapsed": false
   },
   "outputs": [],
   "source": [
    "def find_my_books(name: str, author: str, country: str, language: str, series: str, genre: str, pub_date: str, pages: str):\n",
    "    LIST_OF_BOOKS_v1_FOUND.clear()\n",
    "\n",
    "    #print(len(LIST_OF_BOOKS_v1))\n",
    "\n",
    "    for book in LIST_OF_BOOKS_v1:\n",
    "        name_bool = False\n",
    "        author_bool = False\n",
    "        country_bool = False\n",
    "        language_bool = False\n",
    "        series_bool = False\n",
    "        genre_bool = False\n",
    "        pub_bool = False\n",
    "        pages_bool = False\n",
    "\n",
    "        name_bool = find_my_category('name', name, book)\n",
    "        author_bool = find_my_category('author', author, book)\n",
    "        country_bool = find_my_category('country', country, book)\n",
    "        language_bool = find_my_category('language', language, book)\n",
    "        series_bool = find_my_category('series', series, book)\n",
    "        genre_bool = find_my_category('genre', genre, book)\n",
    "        pub_bool = find_my_category('pub_date', pub_date, book)\n",
    "        pages_bool = find_my_category('pages', pages, book)\n",
    "\n",
    "        if name_bool and author_bool and country_bool and language_bool and series_bool and genre_bool and pub_bool and pages_bool:\n",
    "            LIST_OF_BOOKS_v1_FOUND.append(book)"
   ]
  },
  {
   "cell_type": "code",
   "execution_count": 23,
   "metadata": {
    "collapsed": false
   },
   "outputs": [],
   "source": [
    "def print_book_names():\n",
    "    display_list = []\n",
    "    for book in LIST_OF_BOOKS_v1_FOUND:\n",
    "        if book['name'] not in display_list:\n",
    "            display_list.append(book['name'])\n",
    "\n",
    "    for item in display_list:\n",
    "        if item:\n",
    "            print(item[0])"
   ]
  },
  {
   "cell_type": "code",
   "execution_count": 24,
   "metadata": {
    "collapsed": false
   },
   "outputs": [
    {
     "name": "stdout",
     "output_type": "stream",
     "text": [
      "{'name': [[\"Harry Potter and the Philosopher's Stone &lt;!-- The first edition was in the UK and was the Philosopher's Stone, NOT the Sorcerer's Stone. Read the second paragraph and do not change this! --&gt;\"]], 'author': [['J. K. Rowling']], 'country': [['United Kingdom']], 'language': [['English']], 'series': [['Harry Potter']], 'genre': [], 'pub_date': [], 'pages': []}\n",
      "{'name': [['Harry Potter and the Order of the Phoenix']], 'author': [['J. K. Rowling']], 'country': [['United Kingdom']], 'language': [['English']], 'series': [['Harry Potter']], 'genre': [], 'pub_date': [], 'pages': []}\n",
      "{'name': [['Harry Potter and the Chamber of Secrets']], 'author': [['J. K. Rowling']], 'country': [['United Kingdom']], 'language': [['English']], 'series': [['Harry Potter']], 'genre': [['Fantasy novel']], 'pub_date': [], 'pages': []}\n",
      "{'name': [['Harry Potter and the Prisoner of Azkaban']], 'author': [['J. K. Rowling']], 'country': [['United Kingdom']], 'language': [['English']], 'series': [['Harry Potter']], 'genre': [['Fantasy novel']], 'pub_date': [], 'pages': []}\n",
      "{'name': [['Harry Potter and the Goblet of Fire']], 'author': [['J. K. Rowling']], 'country': [['United Kingdom']], 'language': [['English']], 'series': [['Harry Potter']], 'genre': [], 'pub_date': [], 'pages': []}\n",
      "{'name': [['Harry Potter and the Deathly Hallows']], 'author': [['J. K. Rowling']], 'country': [['United Kingdom']], 'language': [['English']], 'series': [['Harry Potter']], 'genre': [], 'pub_date': [], 'pages': []}\n",
      "[\"Harry Potter and the Philosopher's Stone &lt;!-- The first edition was in the UK and was the Philosopher's Stone, NOT the Sorcerer's Stone. Read the second paragraph and do not change this! --&gt;\"]\n",
      "['Harry Potter and the Order of the Phoenix']\n",
      "['Harry Potter and the Chamber of Secrets']\n",
      "['Harry Potter and the Prisoner of Azkaban']\n",
      "['Harry Potter and the Goblet of Fire']\n",
      "['Harry Potter and the Deathly Hallows']\n"
     ]
    }
   ],
   "source": [
    "name, author, country, language, series, genre, pub_date, pages = input(\"Hello in WikiParser!\\n\\n\"\n",
    "            \"I've created an app that will search for the perfect set of books for you based on input parameters from the console!\\n\\n\"\n",
    "            \"So LET'S GOO!!!\\n\\n\"\n",
    "            \"Please insert the input from the keyboard, following these rules:\\n\"\n",
    "            \"- To separate multiple entries for a category use ',' and after this symbol use Space ' '\\n\"\n",
    "            \"- To separate categories use ';' and after this symbol use Space ' '\\n\"\n",
    "            \"- To skip a category, type '-'\\n\"\n",
    "            \"- !!! It is NECESSARY to enter all categories !!!\\n\\n\"\n",
    "            \"The order of the categories is:\\n\"\n",
    "            \"- 'name'\\n\"\n",
    "            \"- 'author'\\n\"\n",
    "            \"- 'country'\\n\"\n",
    "            \"- 'language'\\n\"\n",
    "            \"- 'series'\\n\"\n",
    "            \"- 'genre'\\n\"\n",
    "            \"- 'pub_date'\\n\"\n",
    "            \"- 'pages'\\n\\n\"\n",
    "            \"Thank you for using WikiParser!\").split('; ')\n",
    "\n",
    "\"\"\"\n",
    "print(name.lower())\n",
    "print(author.lower())\n",
    "print(country.lower())\n",
    "print(language.lower())\n",
    "print(series.lower())\n",
    "print(genre.lower())\n",
    "print(pub_date.lower())\n",
    "print(pages.lower())\n",
    ".split(':')[0]\n",
    "\"\"\"\n",
    "\n",
    "LIST_OF_BOOKS_v1_FOUND.clear()\n",
    "\n",
    "find_my_books(name, author, country, language, series, genre, pub_date, pages)\n",
    "\n",
    "for book in LIST_OF_BOOKS_v1_FOUND:\n",
    "    print(book)\n",
    "\n",
    "print_book_names()\n",
    "\n",
    "# -; J. K. Rowling; -; EN; -; Science, Fantasy; 2000; 300\n",
    "# -; -; -; -; Harry Potter; -; -; -\n",
    "# Harry Potter; J. K. Rowling; -; -; -; -; -; -\n",
    "# Fantastic beasts; J. K. Rowling; -; -; -; -; -; -\n",
    "# -; J. R. R. Tolkien; -; -; -; -; -; -\n",
    "# A Tale of Two Cities; Charles Dickens; -; -; -; -; -; -\n",
    "# -; Charles Dickens; -; -; -; -; -; -"
   ]
  },
  {
   "cell_type": "code",
   "execution_count": 73,
   "metadata": {
    "collapsed": false
   },
   "outputs": [
    {
     "name": "stdout",
     "output_type": "stream",
     "text": [
      "b'u\\xc3\\xb1somestring'\n"
     ]
    }
   ],
   "source": [
    "item = 'u\\xf1somestring'\n",
    "decoded_value = item.encode('utf-8')\n",
    "print(decoded_value)"
   ]
  }
 ],
 "metadata": {
  "kernelspec": {
   "display_name": "Python 3",
   "language": "python",
   "name": "python3"
  },
  "language_info": {
   "codemirror_mode": {
    "name": "ipython",
    "version": 2
   },
   "file_extension": ".py",
   "mimetype": "text/x-python",
   "name": "python",
   "nbconvert_exporter": "python",
   "pygments_lexer": "ipython2",
   "version": "2.7.6"
  }
 },
 "nbformat": 4,
 "nbformat_minor": 0
}
